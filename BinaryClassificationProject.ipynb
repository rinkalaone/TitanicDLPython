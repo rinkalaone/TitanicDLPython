{
 "cells": [
  {
   "cell_type": "markdown",
   "id": "8e100c8b",
   "metadata": {},
   "source": [
    "# <center> Neural Network Project - Binary Classification with Keras</center>\n",
    "## <center>A Model learning and predicting chances of survival for the passengers onboard the 'Titanic' Vessel</center>\n",
    "## <center>by Karine Legrand</center>\n",
    "### <center>January 2022</center>\n",
    "\n",
    "## Table of Contents\n",
    "<ul>\n",
    "<li><a href=\"#intro\">Introduction</a></li>\n",
    "<li><a href=\"#data\">Data Acquisition and Wrangling</a>\n",
    "<li><a href=\"#preprocessing\">Preprocessing for Keras</a>\n",
    "<li><a href=\"#build\">Building and training the Model</a></li>\n",
    "<li><a href=\"#predict\">Predicting 'new' labels</a></li>\n",
    "<li><a href=\"#results\">Interpreting the Results</a></li>    \n",
    "<li><a href=\"#conclusion\">Conclusion and Limitations</a></li>\n",
    "</ul>"
   ]
  },
  {
   "cell_type": "markdown",
   "id": "87fbd6e2",
   "metadata": {},
   "source": [
    "<a id='intro'></a>\n",
    "## Introduction\n",
    "\n",
    "Let's consider the well-known dataset describing characteristics of the Passengers onboard the infamous 'Titanic' Vessel (April 14th of 1912). We could, as I did in another Project, conduct an Exploratory Data Analysis to get Insights about which factors would affect the chance of survival. In other words we could analyse with statistical methods and visualizations, wether -and under which possible circonstances-, some people were more likely to survive the tragedy than others.<br>Another Approach, that we will take here, is to design a Neural Network working as a 'Classifier'.<br> The aim is to take a set of features in the dataset, that will be used to train a model, which in turn, would be able to predict the outcome of our dependent variable, i.e  wether a passenger survived or not. We want to predict the outcome of a Category with just two levels (True/False, Survived/Trepassed, 1/0), hence, we are dealing with a so-called \"Binary Classification Problem\".<br>We choose to use the 'Keras' framework, built on TensorFlow to implement an simple Hands-On Solution to our Problem."
   ]
  },
  {
   "cell_type": "markdown",
   "id": "53ed9ca0",
   "metadata": {},
   "source": [
    "<a id='data'></a>\n",
    "## Data Acquisition and Wrangling\n",
    "\n",
    "In this section we will load and wrangle the dataset to fix any possible issues with the data.<br>\n",
    "This does not essentially differ from what we would do for an Exploratory Data Analysis, so I can use and reproduce steps I did in my previous Project here.<br><br>\n",
    "<b><i>Note</i>:</b> Data treatments that are more specific to the use of Keras, as for instance, integers-formatting for categorical values, will be handled together with proper neural network Data formatting, in the next <a href=\"#preprocessing\">Preprocessing</a> section"
   ]
  },
  {
   "cell_type": "markdown",
   "id": "c4011395",
   "metadata": {},
   "source": [
    "#### Importing the 'Data Science Stack Libraries' "
   ]
  },
  {
   "cell_type": "code",
   "execution_count": 1,
   "id": "0395dcdc",
   "metadata": {},
   "outputs": [],
   "source": [
    "# first the 'usual suspects' of the Data Analysis Stack\n",
    "import pandas as pd\n",
    "import numpy as np\n",
    "import matplotlib.pyplot as plt\n",
    "%matplotlib inline\n",
    "\n",
    "# the libs for Machine Learning Preprocessing\n",
    "from sklearn.model_selection import train_test_split\n",
    "from sklearn.preprocessing import MinMaxScaler\n",
    "from sklearn.preprocessing import LabelEncoder\n",
    "from sklearn.metrics import accuracy_score\n",
    "\n",
    "# the libs for Neural Network modelling\n",
    "import tensorflow as tf\n",
    "from tensorflow import keras\n",
    "from keras import layers, Sequential"
   ]
  },
  {
   "cell_type": "code",
   "execution_count": 2,
   "id": "3c65d81c",
   "metadata": {},
   "outputs": [
    {
     "data": {
      "text/plain": [
       "'2.6.0'"
      ]
     },
     "execution_count": 2,
     "metadata": {},
     "output_type": "execute_result"
    }
   ],
   "source": [
    "tf.__version__"
   ]
  },
  {
   "cell_type": "markdown",
   "id": "8fa024dc",
   "metadata": {},
   "source": [
    "#### Load the csv File with pandas\n",
    "\n",
    "The Dataset, can be found [there](https://www.kaggle.com/c/titanic/data). It contains a subset list of the Passengers that were on board with characteristic informations for each of them and wether they survived or not."
   ]
  },
  {
   "cell_type": "code",
   "execution_count": 3,
   "id": "6b5d4975",
   "metadata": {},
   "outputs": [
    {
     "name": "stdout",
     "output_type": "stream",
     "text": [
      "(891, 12)\n"
     ]
    }
   ],
   "source": [
    "# Load the csv file\n",
    "df_titanic = pd.read_csv('train.csv')\n",
    "print(df_titanic.shape)"
   ]
  },
  {
   "cell_type": "markdown",
   "id": "05ba8286",
   "metadata": {},
   "source": [
    "Their are 891 rows in the Dataframe, each containing 12 columns or variables."
   ]
  },
  {
   "cell_type": "markdown",
   "id": "7fd52e37",
   "metadata": {},
   "source": [
    "### First Glance at the Data using head, info and describe and first decisions about the variables of interest:"
   ]
  },
  {
   "cell_type": "code",
   "execution_count": 4,
   "id": "3c1a8abb",
   "metadata": {},
   "outputs": [
    {
     "data": {
      "text/html": [
       "<div>\n",
       "<style scoped>\n",
       "    .dataframe tbody tr th:only-of-type {\n",
       "        vertical-align: middle;\n",
       "    }\n",
       "\n",
       "    .dataframe tbody tr th {\n",
       "        vertical-align: top;\n",
       "    }\n",
       "\n",
       "    .dataframe thead th {\n",
       "        text-align: right;\n",
       "    }\n",
       "</style>\n",
       "<table border=\"1\" class=\"dataframe\">\n",
       "  <thead>\n",
       "    <tr style=\"text-align: right;\">\n",
       "      <th></th>\n",
       "      <th>PassengerId</th>\n",
       "      <th>Survived</th>\n",
       "      <th>Pclass</th>\n",
       "      <th>Name</th>\n",
       "      <th>Sex</th>\n",
       "      <th>Age</th>\n",
       "      <th>SibSp</th>\n",
       "      <th>Parch</th>\n",
       "      <th>Ticket</th>\n",
       "      <th>Fare</th>\n",
       "      <th>Cabin</th>\n",
       "      <th>Embarked</th>\n",
       "    </tr>\n",
       "  </thead>\n",
       "  <tbody>\n",
       "    <tr>\n",
       "      <th>0</th>\n",
       "      <td>1</td>\n",
       "      <td>0</td>\n",
       "      <td>3</td>\n",
       "      <td>Braund, Mr. Owen Harris</td>\n",
       "      <td>male</td>\n",
       "      <td>22.0</td>\n",
       "      <td>1</td>\n",
       "      <td>0</td>\n",
       "      <td>A/5 21171</td>\n",
       "      <td>7.2500</td>\n",
       "      <td>NaN</td>\n",
       "      <td>S</td>\n",
       "    </tr>\n",
       "    <tr>\n",
       "      <th>1</th>\n",
       "      <td>2</td>\n",
       "      <td>1</td>\n",
       "      <td>1</td>\n",
       "      <td>Cumings, Mrs. John Bradley (Florence Briggs Th...</td>\n",
       "      <td>female</td>\n",
       "      <td>38.0</td>\n",
       "      <td>1</td>\n",
       "      <td>0</td>\n",
       "      <td>PC 17599</td>\n",
       "      <td>71.2833</td>\n",
       "      <td>C85</td>\n",
       "      <td>C</td>\n",
       "    </tr>\n",
       "    <tr>\n",
       "      <th>2</th>\n",
       "      <td>3</td>\n",
       "      <td>1</td>\n",
       "      <td>3</td>\n",
       "      <td>Heikkinen, Miss. Laina</td>\n",
       "      <td>female</td>\n",
       "      <td>26.0</td>\n",
       "      <td>0</td>\n",
       "      <td>0</td>\n",
       "      <td>STON/O2. 3101282</td>\n",
       "      <td>7.9250</td>\n",
       "      <td>NaN</td>\n",
       "      <td>S</td>\n",
       "    </tr>\n",
       "    <tr>\n",
       "      <th>3</th>\n",
       "      <td>4</td>\n",
       "      <td>1</td>\n",
       "      <td>1</td>\n",
       "      <td>Futrelle, Mrs. Jacques Heath (Lily May Peel)</td>\n",
       "      <td>female</td>\n",
       "      <td>35.0</td>\n",
       "      <td>1</td>\n",
       "      <td>0</td>\n",
       "      <td>113803</td>\n",
       "      <td>53.1000</td>\n",
       "      <td>C123</td>\n",
       "      <td>S</td>\n",
       "    </tr>\n",
       "    <tr>\n",
       "      <th>4</th>\n",
       "      <td>5</td>\n",
       "      <td>0</td>\n",
       "      <td>3</td>\n",
       "      <td>Allen, Mr. William Henry</td>\n",
       "      <td>male</td>\n",
       "      <td>35.0</td>\n",
       "      <td>0</td>\n",
       "      <td>0</td>\n",
       "      <td>373450</td>\n",
       "      <td>8.0500</td>\n",
       "      <td>NaN</td>\n",
       "      <td>S</td>\n",
       "    </tr>\n",
       "  </tbody>\n",
       "</table>\n",
       "</div>"
      ],
      "text/plain": [
       "   PassengerId  Survived  Pclass  \\\n",
       "0            1         0       3   \n",
       "1            2         1       1   \n",
       "2            3         1       3   \n",
       "3            4         1       1   \n",
       "4            5         0       3   \n",
       "\n",
       "                                                Name     Sex   Age  SibSp  \\\n",
       "0                            Braund, Mr. Owen Harris    male  22.0      1   \n",
       "1  Cumings, Mrs. John Bradley (Florence Briggs Th...  female  38.0      1   \n",
       "2                             Heikkinen, Miss. Laina  female  26.0      0   \n",
       "3       Futrelle, Mrs. Jacques Heath (Lily May Peel)  female  35.0      1   \n",
       "4                           Allen, Mr. William Henry    male  35.0      0   \n",
       "\n",
       "   Parch            Ticket     Fare Cabin Embarked  \n",
       "0      0         A/5 21171   7.2500   NaN        S  \n",
       "1      0          PC 17599  71.2833   C85        C  \n",
       "2      0  STON/O2. 3101282   7.9250   NaN        S  \n",
       "3      0            113803  53.1000  C123        S  \n",
       "4      0            373450   8.0500   NaN        S  "
      ]
     },
     "execution_count": 4,
     "metadata": {},
     "output_type": "execute_result"
    }
   ],
   "source": [
    "df_titanic.head()"
   ]
  },
  {
   "cell_type": "markdown",
   "id": "d837e7c3",
   "metadata": {},
   "source": [
    "Are there any duplicates in the Dataframe?"
   ]
  },
  {
   "cell_type": "code",
   "execution_count": 5,
   "id": "ec516177",
   "metadata": {},
   "outputs": [
    {
     "data": {
      "text/plain": [
       "0"
      ]
     },
     "execution_count": 5,
     "metadata": {},
     "output_type": "execute_result"
    }
   ],
   "source": [
    "df_titanic.duplicated().sum()"
   ]
  },
  {
   "cell_type": "markdown",
   "id": "41469b18",
   "metadata": {},
   "source": [
    "There are no duplicates. Each row is a distinct valid observation (characteristics for one person on board of the ship)."
   ]
  },
  {
   "cell_type": "markdown",
   "id": "880b65a4",
   "metadata": {},
   "source": [
    "I decided to drop some columns, for clarity purposes, for the corresponding independant variables \"PassengerId, Name and Ticket\", which I suspect not to correlate with our outcome variable.\n"
   ]
  },
  {
   "cell_type": "code",
   "execution_count": 6,
   "id": "45067f1d",
   "metadata": {},
   "outputs": [
    {
     "data": {
      "text/html": [
       "<div>\n",
       "<style scoped>\n",
       "    .dataframe tbody tr th:only-of-type {\n",
       "        vertical-align: middle;\n",
       "    }\n",
       "\n",
       "    .dataframe tbody tr th {\n",
       "        vertical-align: top;\n",
       "    }\n",
       "\n",
       "    .dataframe thead th {\n",
       "        text-align: right;\n",
       "    }\n",
       "</style>\n",
       "<table border=\"1\" class=\"dataframe\">\n",
       "  <thead>\n",
       "    <tr style=\"text-align: right;\">\n",
       "      <th></th>\n",
       "      <th>Survived</th>\n",
       "      <th>Pclass</th>\n",
       "      <th>Sex</th>\n",
       "      <th>Age</th>\n",
       "      <th>SibSp</th>\n",
       "      <th>Parch</th>\n",
       "      <th>Fare</th>\n",
       "      <th>Cabin</th>\n",
       "      <th>Embarked</th>\n",
       "    </tr>\n",
       "  </thead>\n",
       "  <tbody>\n",
       "    <tr>\n",
       "      <th>0</th>\n",
       "      <td>0</td>\n",
       "      <td>3</td>\n",
       "      <td>male</td>\n",
       "      <td>22.0</td>\n",
       "      <td>1</td>\n",
       "      <td>0</td>\n",
       "      <td>7.2500</td>\n",
       "      <td>NaN</td>\n",
       "      <td>S</td>\n",
       "    </tr>\n",
       "    <tr>\n",
       "      <th>1</th>\n",
       "      <td>1</td>\n",
       "      <td>1</td>\n",
       "      <td>female</td>\n",
       "      <td>38.0</td>\n",
       "      <td>1</td>\n",
       "      <td>0</td>\n",
       "      <td>71.2833</td>\n",
       "      <td>C85</td>\n",
       "      <td>C</td>\n",
       "    </tr>\n",
       "    <tr>\n",
       "      <th>2</th>\n",
       "      <td>1</td>\n",
       "      <td>3</td>\n",
       "      <td>female</td>\n",
       "      <td>26.0</td>\n",
       "      <td>0</td>\n",
       "      <td>0</td>\n",
       "      <td>7.9250</td>\n",
       "      <td>NaN</td>\n",
       "      <td>S</td>\n",
       "    </tr>\n",
       "  </tbody>\n",
       "</table>\n",
       "</div>"
      ],
      "text/plain": [
       "   Survived  Pclass     Sex   Age  SibSp  Parch     Fare Cabin Embarked\n",
       "0         0       3    male  22.0      1      0   7.2500   NaN        S\n",
       "1         1       1  female  38.0      1      0  71.2833   C85        C\n",
       "2         1       3  female  26.0      0      0   7.9250   NaN        S"
      ]
     },
     "execution_count": 6,
     "metadata": {},
     "output_type": "execute_result"
    }
   ],
   "source": [
    "df_titanic.drop(columns=['PassengerId', 'Name', 'Ticket'], inplace=True)\n",
    "df_titanic.head(3)"
   ]
  },
  {
   "cell_type": "markdown",
   "id": "3a84e544",
   "metadata": {},
   "source": [
    "Overview of the Columns-meaning:\n",
    "- \"SibSp\" stands for \"Siblings/Spouse\",\n",
    "- \"ParCh\" stands for \"Parents/Children\",\n",
    "Both variables indicates if a Passenger had Sibling(s)/Partner and Parents/Children on board or none of them and travelling alone,\n",
    "- \"Embarked\" is related to the Port on the Route where People embarked, either \"S for Southampton\", \"C for Cherbourg\" or \"Q for Queenstown\" in the Uk and in France,\n",
    "- \"Fare\" is the price the person paid for him/herself and their family if any,\n",
    "- \"Cabin\" is the Reference number of the reserved cabin if any,\n",
    "- \"Pclass\" is the Travel-class of the Passenger (First, Second or Third).\n",
    "The other columns are self explanatory."
   ]
  },
  {
   "cell_type": "markdown",
   "id": "00ceb847",
   "metadata": {},
   "source": [
    "What is the type of the variables, are there missing values?"
   ]
  },
  {
   "cell_type": "code",
   "execution_count": 7,
   "id": "1ef79bc3",
   "metadata": {},
   "outputs": [
    {
     "name": "stdout",
     "output_type": "stream",
     "text": [
      "<class 'pandas.core.frame.DataFrame'>\n",
      "RangeIndex: 891 entries, 0 to 890\n",
      "Data columns (total 9 columns):\n",
      " #   Column    Non-Null Count  Dtype  \n",
      "---  ------    --------------  -----  \n",
      " 0   Survived  891 non-null    int64  \n",
      " 1   Pclass    891 non-null    int64  \n",
      " 2   Sex       891 non-null    object \n",
      " 3   Age       714 non-null    float64\n",
      " 4   SibSp     891 non-null    int64  \n",
      " 5   Parch     891 non-null    int64  \n",
      " 6   Fare      891 non-null    float64\n",
      " 7   Cabin     204 non-null    object \n",
      " 8   Embarked  889 non-null    object \n",
      "dtypes: float64(2), int64(4), object(3)\n",
      "memory usage: 62.8+ KB\n"
     ]
    }
   ],
   "source": [
    "df_titanic.info()"
   ]
  },
  {
   "cell_type": "markdown",
   "id": "b4f6fc0d",
   "metadata": {},
   "source": [
    "The Data Types seem to be matching the types for all columns.<br>\n",
    "There are missing values for the columns \\['Age', 'Cabin', 'Embarked'\\]. Before inspecting them closer and decide how tho handle them, let us gain some statistics summary for the numerical variables with 'describe' and have an overview of the distributions."
   ]
  },
  {
   "cell_type": "code",
   "execution_count": 8,
   "id": "4499fc24",
   "metadata": {},
   "outputs": [
    {
     "data": {
      "text/html": [
       "<div>\n",
       "<style scoped>\n",
       "    .dataframe tbody tr th:only-of-type {\n",
       "        vertical-align: middle;\n",
       "    }\n",
       "\n",
       "    .dataframe tbody tr th {\n",
       "        vertical-align: top;\n",
       "    }\n",
       "\n",
       "    .dataframe thead th {\n",
       "        text-align: right;\n",
       "    }\n",
       "</style>\n",
       "<table border=\"1\" class=\"dataframe\">\n",
       "  <thead>\n",
       "    <tr style=\"text-align: right;\">\n",
       "      <th></th>\n",
       "      <th>Survived</th>\n",
       "      <th>Pclass</th>\n",
       "      <th>Age</th>\n",
       "      <th>SibSp</th>\n",
       "      <th>Parch</th>\n",
       "      <th>Fare</th>\n",
       "    </tr>\n",
       "  </thead>\n",
       "  <tbody>\n",
       "    <tr>\n",
       "      <th>count</th>\n",
       "      <td>891.000000</td>\n",
       "      <td>891.000000</td>\n",
       "      <td>714.000000</td>\n",
       "      <td>891.000000</td>\n",
       "      <td>891.000000</td>\n",
       "      <td>891.000000</td>\n",
       "    </tr>\n",
       "    <tr>\n",
       "      <th>mean</th>\n",
       "      <td>0.383838</td>\n",
       "      <td>2.308642</td>\n",
       "      <td>29.699118</td>\n",
       "      <td>0.523008</td>\n",
       "      <td>0.381594</td>\n",
       "      <td>32.204208</td>\n",
       "    </tr>\n",
       "    <tr>\n",
       "      <th>std</th>\n",
       "      <td>0.486592</td>\n",
       "      <td>0.836071</td>\n",
       "      <td>14.526497</td>\n",
       "      <td>1.102743</td>\n",
       "      <td>0.806057</td>\n",
       "      <td>49.693429</td>\n",
       "    </tr>\n",
       "    <tr>\n",
       "      <th>min</th>\n",
       "      <td>0.000000</td>\n",
       "      <td>1.000000</td>\n",
       "      <td>0.420000</td>\n",
       "      <td>0.000000</td>\n",
       "      <td>0.000000</td>\n",
       "      <td>0.000000</td>\n",
       "    </tr>\n",
       "    <tr>\n",
       "      <th>25%</th>\n",
       "      <td>0.000000</td>\n",
       "      <td>2.000000</td>\n",
       "      <td>20.125000</td>\n",
       "      <td>0.000000</td>\n",
       "      <td>0.000000</td>\n",
       "      <td>7.910400</td>\n",
       "    </tr>\n",
       "    <tr>\n",
       "      <th>50%</th>\n",
       "      <td>0.000000</td>\n",
       "      <td>3.000000</td>\n",
       "      <td>28.000000</td>\n",
       "      <td>0.000000</td>\n",
       "      <td>0.000000</td>\n",
       "      <td>14.454200</td>\n",
       "    </tr>\n",
       "    <tr>\n",
       "      <th>75%</th>\n",
       "      <td>1.000000</td>\n",
       "      <td>3.000000</td>\n",
       "      <td>38.000000</td>\n",
       "      <td>1.000000</td>\n",
       "      <td>0.000000</td>\n",
       "      <td>31.000000</td>\n",
       "    </tr>\n",
       "    <tr>\n",
       "      <th>max</th>\n",
       "      <td>1.000000</td>\n",
       "      <td>3.000000</td>\n",
       "      <td>80.000000</td>\n",
       "      <td>8.000000</td>\n",
       "      <td>6.000000</td>\n",
       "      <td>512.329200</td>\n",
       "    </tr>\n",
       "  </tbody>\n",
       "</table>\n",
       "</div>"
      ],
      "text/plain": [
       "         Survived      Pclass         Age       SibSp       Parch        Fare\n",
       "count  891.000000  891.000000  714.000000  891.000000  891.000000  891.000000\n",
       "mean     0.383838    2.308642   29.699118    0.523008    0.381594   32.204208\n",
       "std      0.486592    0.836071   14.526497    1.102743    0.806057   49.693429\n",
       "min      0.000000    1.000000    0.420000    0.000000    0.000000    0.000000\n",
       "25%      0.000000    2.000000   20.125000    0.000000    0.000000    7.910400\n",
       "50%      0.000000    3.000000   28.000000    0.000000    0.000000   14.454200\n",
       "75%      1.000000    3.000000   38.000000    1.000000    0.000000   31.000000\n",
       "max      1.000000    3.000000   80.000000    8.000000    6.000000  512.329200"
      ]
     },
     "execution_count": 8,
     "metadata": {},
     "output_type": "execute_result"
    }
   ],
   "source": [
    "df_titanic.describe()"
   ]
  },
  {
   "cell_type": "code",
   "execution_count": 9,
   "id": "621f9e8e",
   "metadata": {},
   "outputs": [
    {
     "data": {
      "image/png": "[encoded data removed]",
      "text/plain": [
       "<Figure size 576x576 with 6 Axes>"
      ]
     },
     "metadata": {
      "needs_background": "light"
     },
     "output_type": "display_data"
    }
   ],
   "source": [
    "df_titanic.hist(figsize= (8,8));"
   ]
  },
  {
   "cell_type": "code",
   "execution_count": 10,
   "id": "39649a96",
   "metadata": {},
   "outputs": [
    {
     "name": "stdout",
     "output_type": "stream",
     "text": [
      "38.38383838383838\n"
     ]
    }
   ],
   "source": [
    "print(df_titanic.Survived.mean()*100)"
   ]
  },
  {
   "cell_type": "markdown",
   "id": "b8fdf9d8",
   "metadata": {},
   "source": [
    "**First Assessments and Overview of the numerical variables:**<br><br>\n",
    "**Distribution of the 'Age' variable:**<br>\n",
    "Most of the People were approximately between 20 and 40 years old. There were also some very young children (not even one year old)and a few elderly People on board (One was 80 year old). In average, People were about 30 year old.<br>\n",
    "**Distribution of the 'Pclass' variable:**<br>\n",
    "About 200 People travelled each in First and Second Class and most of them, more than the double, travelled in the cheapest Third-class.<br>\n",
    "**Distribution of 'SibSp' and 'ParCh' variables:**<br>\n",
    "A vast majority of the People travelled alone.<br>\n",
    "**Distribution of 'Fare' variable:**<br>\n",
    "A vast majority of People, $75\\%$, paid less than 31\\$ for the trip (which matches the fact that most people travelled in Third-class)<br>\n",
    "**Distribution for the 'Survived' variable:**<br>\n",
    "Most people, $61.6\\%$ of them, did not survive (which is a slightly smaller proportion as the real Proportion of People who died in the Tragedy, since we are working on a Dataset with less than half of the total Passengers that were on board (2200)) "
   ]
  },
  {
   "cell_type": "markdown",
   "id": "7262f4f7",
   "metadata": {},
   "source": [
    "<i><b>An important note for the next Section:</b></i> The levels of the class we want to predict are not equally distributed in the dataset, i.e there are less People who survived than died. It will be useful to reflect the same proportions in the different subsets of data we will produce from the dataset for our model (training, validation and testing data subsets)"
   ]
  },
  {
   "cell_type": "markdown",
   "id": "ad823350",
   "metadata": {},
   "source": [
    "#### Decision for handling the Quality Issue concerning missing values for the 'Age' column:"
   ]
  },
  {
   "cell_type": "markdown",
   "id": "2a8fd389",
   "metadata": {},
   "source": [
    "Let us inspect the rows for which the 'Age' value is missing. We want to make sure these records do not have a certain characteristic in common for example, which would make them being a distinct group of People. "
   ]
  },
  {
   "cell_type": "code",
   "execution_count": 11,
   "id": "f09e051f",
   "metadata": {},
   "outputs": [
    {
     "name": "stdout",
     "output_type": "stream",
     "text": [
      "(177, 9)\n"
     ]
    }
   ],
   "source": [
    "df_age_missing = df_titanic[df_titanic.Age.isnull()]\n",
    "print(df_age_missing.shape)"
   ]
  },
  {
   "cell_type": "code",
   "execution_count": 12,
   "id": "dbd8f477",
   "metadata": {},
   "outputs": [
    {
     "data": {
      "image/png": "[encoded data removed]",
      "text/plain": [
       "<Figure size 576x576 with 6 Axes>"
      ]
     },
     "metadata": {
      "needs_background": "light"
     },
     "output_type": "display_data"
    }
   ],
   "source": [
    "df_age_missing.hist(figsize=(8,8));"
   ]
  },
  {
   "cell_type": "markdown",
   "id": "ce5d04fb",
   "metadata": {},
   "source": [
    "The characteristics for these rows do not show any particular difference from the whole dataset, we decide to handle these missing values by replacing them with the average age.<br>\n",
    "**We will handle this quality issue in the next \"Data Cleaning\" section.** "
   ]
  },
  {
   "cell_type": "markdown",
   "id": "b358f998",
   "metadata": {},
   "source": [
    "#### Decision for handling the Quality Issue concerning missing values for the 'Embarked' column:"
   ]
  },
  {
   "cell_type": "code",
   "execution_count": 13,
   "id": "eaf9033a",
   "metadata": {},
   "outputs": [
    {
     "name": "stdout",
     "output_type": "stream",
     "text": [
      "(2, 9)\n"
     ]
    }
   ],
   "source": [
    "print(df_titanic[df_titanic.Embarked.isnull()].shape)"
   ]
  },
  {
   "cell_type": "markdown",
   "id": "3b9d4e48",
   "metadata": {},
   "source": [
    "Since there are only 2 rows missing this information we can decide to just drop them.<br>We will do this, as well, in the next **\"Data Cleaning\"** section."
   ]
  },
  {
   "cell_type": "markdown",
   "id": "c13f5621",
   "metadata": {},
   "source": [
    "**Decision for handling missing values in the 'Cabin' column:**\n",
    "We suspect there is a value in the column only for the passengers that did have a cabin. So mainly for First class plus the members of the crew. We could either replace the missing values with \"None\" or just ignore the missing values. Let us have a look to confirm if our Intuition was right:"
   ]
  },
  {
   "cell_type": "code",
   "execution_count": 14,
   "id": "382929df",
   "metadata": {},
   "outputs": [
    {
     "data": {
      "text/plain": [
       "1    176\n",
       "2     16\n",
       "3     12\n",
       "Name: Pclass, dtype: int64"
      ]
     },
     "execution_count": 14,
     "metadata": {},
     "output_type": "execute_result"
    }
   ],
   "source": [
    "df_cabin = df_titanic.loc[df_titanic.Cabin.notna()]\n",
    "df_cabin.Pclass.value_counts()"
   ]
  },
  {
   "cell_type": "markdown",
   "id": "98f43bd9",
   "metadata": {},
   "source": [
    "We decide to replace missing values with 'None ."
   ]
  },
  {
   "cell_type": "markdown",
   "id": "4ad17826",
   "metadata": {},
   "source": [
    "### Data Cleaning: Handling the quality issues detected previously"
   ]
  },
  {
   "cell_type": "markdown",
   "id": "74fd77e4",
   "metadata": {},
   "source": [
    "#### Quality Issue 1: \n",
    "#### Define: \n",
    "We want to replace missing values in the 'Age' column by its mean value."
   ]
  },
  {
   "cell_type": "markdown",
   "id": "f813cc18",
   "metadata": {},
   "source": [
    "#### Code:"
   ]
  },
  {
   "cell_type": "code",
   "execution_count": 15,
   "id": "86d5b6ac",
   "metadata": {},
   "outputs": [],
   "source": [
    "df_titanic.Age.fillna(df_titanic.Age.mean(), inplace=True)"
   ]
  },
  {
   "cell_type": "markdown",
   "id": "8b82b2c4",
   "metadata": {},
   "source": [
    "#### Test:"
   ]
  },
  {
   "cell_type": "code",
   "execution_count": 16,
   "id": "d39d0f5e",
   "metadata": {},
   "outputs": [
    {
     "name": "stdout",
     "output_type": "stream",
     "text": [
      "0\n"
     ]
    }
   ],
   "source": [
    "print(df_titanic.Age.isna().sum())"
   ]
  },
  {
   "cell_type": "markdown",
   "id": "9ee91f8c",
   "metadata": {},
   "source": [
    "#### Quality Issue 2:"
   ]
  },
  {
   "cell_type": "markdown",
   "id": "25233874",
   "metadata": {},
   "source": [
    "#### Define:\n",
    "We drop the 2 rows with missing values in the 'Embarked' column:"
   ]
  },
  {
   "cell_type": "markdown",
   "id": "96a7316e",
   "metadata": {},
   "source": [
    "#### Code:"
   ]
  },
  {
   "cell_type": "code",
   "execution_count": 17,
   "id": "85f4c48a",
   "metadata": {},
   "outputs": [],
   "source": [
    "df_titanic.dropna(subset=['Embarked'], inplace=True)"
   ]
  },
  {
   "cell_type": "markdown",
   "id": "6f27feaf",
   "metadata": {},
   "source": [
    "#### Test:"
   ]
  },
  {
   "cell_type": "code",
   "execution_count": 18,
   "id": "106ba1a5",
   "metadata": {},
   "outputs": [
    {
     "name": "stdout",
     "output_type": "stream",
     "text": [
      "(889, 9)\n"
     ]
    }
   ],
   "source": [
    "print(df_titanic.shape)"
   ]
  },
  {
   "cell_type": "markdown",
   "id": "aaee74ea",
   "metadata": {},
   "source": [
    "#### Quality Issue 3:"
   ]
  },
  {
   "cell_type": "markdown",
   "id": "24a28860",
   "metadata": {},
   "source": [
    "#### Define:\n",
    "We replace the missing values in the 'Cabin' column with 'None:"
   ]
  },
  {
   "cell_type": "markdown",
   "id": "f0a1cc58",
   "metadata": {},
   "source": [
    "#### Code:"
   ]
  },
  {
   "cell_type": "code",
   "execution_count": 19,
   "id": "c755b8ab",
   "metadata": {},
   "outputs": [],
   "source": [
    "df_titanic.Cabin.fillna('None', inplace=True)"
   ]
  },
  {
   "cell_type": "markdown",
   "id": "ceccb810",
   "metadata": {},
   "source": [
    "#### Test:"
   ]
  },
  {
   "cell_type": "code",
   "execution_count": 20,
   "id": "91943883",
   "metadata": {},
   "outputs": [
    {
     "name": "stdout",
     "output_type": "stream",
     "text": [
      "0\n"
     ]
    }
   ],
   "source": [
    "print(df_titanic.Cabin.isna().sum())"
   ]
  },
  {
   "cell_type": "code",
   "execution_count": 21,
   "id": "0cf1022e",
   "metadata": {
    "scrolled": true
   },
   "outputs": [
    {
     "name": "stdout",
     "output_type": "stream",
     "text": [
      "<class 'pandas.core.frame.DataFrame'>\n",
      "Int64Index: 889 entries, 0 to 890\n",
      "Data columns (total 9 columns):\n",
      " #   Column    Non-Null Count  Dtype  \n",
      "---  ------    --------------  -----  \n",
      " 0   Survived  889 non-null    int64  \n",
      " 1   Pclass    889 non-null    int64  \n",
      " 2   Sex       889 non-null    object \n",
      " 3   Age       889 non-null    float64\n",
      " 4   SibSp     889 non-null    int64  \n",
      " 5   Parch     889 non-null    int64  \n",
      " 6   Fare      889 non-null    float64\n",
      " 7   Cabin     889 non-null    object \n",
      " 8   Embarked  889 non-null    object \n",
      "dtypes: float64(2), int64(4), object(3)\n",
      "memory usage: 69.5+ KB\n"
     ]
    }
   ],
   "source": [
    "df_titanic.info()"
   ]
  },
  {
   "cell_type": "markdown",
   "id": "fdcc7ed7",
   "metadata": {},
   "source": [
    "### Insights from assessing the Dataset and Decisions for structuring our Model:\n",
    "\n",
    "#### What is the structure of the dataset?\n",
    "The Dataset contains 889 observations of persons embarked on the Titanic Vessel. There are 9 columns we decided to keep describing characteristics of each Person.\n",
    "\n",
    "\n",
    "#### What is/are the main feature(s) of interest in the dataset?\n",
    "The <b>Response</b> Variable, which we will set as our prediction <b>Label</b> in our Model is the column `'Survived'`. The other 8 columns will be the <b>Inputs</b> or <b>Features</b> in our Neural Network Model:\n",
    "`['Pclass', 'Sex', 'Age', 'SibSp', 'Parch', 'Fare', 'Cabin', 'Embarked']`\n"
   ]
  },
  {
   "cell_type": "markdown",
   "id": "12549959",
   "metadata": {},
   "source": [
    "<a id='preprocessing'></a>\n",
    "## Preprocessing for Keras\n",
    "\n",
    "In this section we will further process our Data so that it becomes \"Model-ready\" to work with. Different steps need to be taken:\n",
    "- 1) One hot encode categorical variables\n",
    "- 2) Setting Features and Labels\n",
    "- 3) Split our Features and associated Labels Data into 3 Chunks: Training, Validation and Test\n",
    "- 4) Normalize the Input Data so that the different ranges across the Features's values do not tend to bias the weights of the neurons across the network\n",
    "\n",
    "<br>\n",
    "\n",
    "### <u>1) One-hot-encode categorical variables</u>\n",
    "\n",
    "The categorical non-ordinal features need to be converted in a binary form, because our model can only work with numerical values. This is the case for `['Sex', 'Cabin', 'Embarked']`.\n",
    "<i>Note:</i> The feature `Pclass` is categorical and integer-encoded (1 to 3). It is also <i>ordinal</i>. It means that the travelling Class has a rank (1 is the best, 3 is the worst Class). In this case it is important to preserve this valuable information and keep the levels together in one single variable, as the model can interpret this.\n"
   ]
  },
  {
   "cell_type": "code",
   "execution_count": 22,
   "id": "08b3f0bd",
   "metadata": {},
   "outputs": [],
   "source": [
    "# One-hot-encode 'Sex' and Embarked columns\n",
    "df_titanic = pd.get_dummies(df_titanic, columns= ['Sex', 'Embarked'])\n"
   ]
  },
  {
   "cell_type": "code",
   "execution_count": 23,
   "id": "ac5d5b8e",
   "metadata": {},
   "outputs": [
    {
     "data": {
      "text/html": [
       "<div>\n",
       "<style scoped>\n",
       "    .dataframe tbody tr th:only-of-type {\n",
       "        vertical-align: middle;\n",
       "    }\n",
       "\n",
       "    .dataframe tbody tr th {\n",
       "        vertical-align: top;\n",
       "    }\n",
       "\n",
       "    .dataframe thead th {\n",
       "        text-align: right;\n",
       "    }\n",
       "</style>\n",
       "<table border=\"1\" class=\"dataframe\">\n",
       "  <thead>\n",
       "    <tr style=\"text-align: right;\">\n",
       "      <th></th>\n",
       "      <th>Survived</th>\n",
       "      <th>Pclass</th>\n",
       "      <th>Age</th>\n",
       "      <th>SibSp</th>\n",
       "      <th>Parch</th>\n",
       "      <th>Fare</th>\n",
       "      <th>Cabin</th>\n",
       "      <th>Sex_female</th>\n",
       "      <th>Sex_male</th>\n",
       "      <th>Embarked_C</th>\n",
       "      <th>Embarked_Q</th>\n",
       "      <th>Embarked_S</th>\n",
       "    </tr>\n",
       "  </thead>\n",
       "  <tbody>\n",
       "    <tr>\n",
       "      <th>0</th>\n",
       "      <td>0</td>\n",
       "      <td>3</td>\n",
       "      <td>22.0</td>\n",
       "      <td>1</td>\n",
       "      <td>0</td>\n",
       "      <td>7.2500</td>\n",
       "      <td>None</td>\n",
       "      <td>0</td>\n",
       "      <td>1</td>\n",
       "      <td>0</td>\n",
       "      <td>0</td>\n",
       "      <td>1</td>\n",
       "    </tr>\n",
       "    <tr>\n",
       "      <th>1</th>\n",
       "      <td>1</td>\n",
       "      <td>1</td>\n",
       "      <td>38.0</td>\n",
       "      <td>1</td>\n",
       "      <td>0</td>\n",
       "      <td>71.2833</td>\n",
       "      <td>C85</td>\n",
       "      <td>1</td>\n",
       "      <td>0</td>\n",
       "      <td>1</td>\n",
       "      <td>0</td>\n",
       "      <td>0</td>\n",
       "    </tr>\n",
       "  </tbody>\n",
       "</table>\n",
       "</div>"
      ],
      "text/plain": [
       "   Survived  Pclass   Age  SibSp  Parch     Fare Cabin  Sex_female  Sex_male  \\\n",
       "0         0       3  22.0      1      0   7.2500  None           0         1   \n",
       "1         1       1  38.0      1      0  71.2833   C85           1         0   \n",
       "\n",
       "   Embarked_C  Embarked_Q  Embarked_S  \n",
       "0           0           0           1  \n",
       "1           1           0           0  "
      ]
     },
     "execution_count": 23,
     "metadata": {},
     "output_type": "execute_result"
    }
   ],
   "source": [
    "df_titanic.head(2)"
   ]
  },
  {
   "cell_type": "markdown",
   "id": "a710eb27",
   "metadata": {},
   "source": [
    "The 'Cabin' column, needs to be casted directly in binary Form: The value is either a reference to an existing cabin, or it is 'None'. Let's encode this as a boolean Variable."
   ]
  },
  {
   "cell_type": "code",
   "execution_count": 24,
   "id": "54657dfc",
   "metadata": {},
   "outputs": [],
   "source": [
    "df_titanic['Cabin'] = np.where(df_titanic.Cabin=='None', 0, 1) "
   ]
  },
  {
   "cell_type": "code",
   "execution_count": 25,
   "id": "d3c699ba",
   "metadata": {},
   "outputs": [
    {
     "data": {
      "text/html": [
       "<div>\n",
       "<style scoped>\n",
       "    .dataframe tbody tr th:only-of-type {\n",
       "        vertical-align: middle;\n",
       "    }\n",
       "\n",
       "    .dataframe tbody tr th {\n",
       "        vertical-align: top;\n",
       "    }\n",
       "\n",
       "    .dataframe thead th {\n",
       "        text-align: right;\n",
       "    }\n",
       "</style>\n",
       "<table border=\"1\" class=\"dataframe\">\n",
       "  <thead>\n",
       "    <tr style=\"text-align: right;\">\n",
       "      <th></th>\n",
       "      <th>Survived</th>\n",
       "      <th>Pclass</th>\n",
       "      <th>Age</th>\n",
       "      <th>SibSp</th>\n",
       "      <th>Parch</th>\n",
       "      <th>Fare</th>\n",
       "      <th>Cabin</th>\n",
       "      <th>Sex_female</th>\n",
       "      <th>Sex_male</th>\n",
       "      <th>Embarked_C</th>\n",
       "      <th>Embarked_Q</th>\n",
       "      <th>Embarked_S</th>\n",
       "    </tr>\n",
       "  </thead>\n",
       "  <tbody>\n",
       "    <tr>\n",
       "      <th>0</th>\n",
       "      <td>0</td>\n",
       "      <td>3</td>\n",
       "      <td>22.0</td>\n",
       "      <td>1</td>\n",
       "      <td>0</td>\n",
       "      <td>7.2500</td>\n",
       "      <td>0</td>\n",
       "      <td>0</td>\n",
       "      <td>1</td>\n",
       "      <td>0</td>\n",
       "      <td>0</td>\n",
       "      <td>1</td>\n",
       "    </tr>\n",
       "    <tr>\n",
       "      <th>1</th>\n",
       "      <td>1</td>\n",
       "      <td>1</td>\n",
       "      <td>38.0</td>\n",
       "      <td>1</td>\n",
       "      <td>0</td>\n",
       "      <td>71.2833</td>\n",
       "      <td>1</td>\n",
       "      <td>1</td>\n",
       "      <td>0</td>\n",
       "      <td>1</td>\n",
       "      <td>0</td>\n",
       "      <td>0</td>\n",
       "    </tr>\n",
       "  </tbody>\n",
       "</table>\n",
       "</div>"
      ],
      "text/plain": [
       "   Survived  Pclass   Age  SibSp  Parch     Fare  Cabin  Sex_female  Sex_male  \\\n",
       "0         0       3  22.0      1      0   7.2500      0           0         1   \n",
       "1         1       1  38.0      1      0  71.2833      1           1         0   \n",
       "\n",
       "   Embarked_C  Embarked_Q  Embarked_S  \n",
       "0           0           0           1  \n",
       "1           1           0           0  "
      ]
     },
     "execution_count": 25,
     "metadata": {},
     "output_type": "execute_result"
    }
   ],
   "source": [
    "df_titanic.head(2)"
   ]
  },
  {
   "cell_type": "markdown",
   "id": "8afcb9ed",
   "metadata": {},
   "source": [
    "Wrangling the Data is now done! We can move on to format and preprocess our Model Data."
   ]
  },
  {
   "cell_type": "code",
   "execution_count": 26,
   "id": "735a68ab",
   "metadata": {},
   "outputs": [],
   "source": [
    "# Saving the wrangled Dataset for reuse purposes:\n",
    "df_titanic.to_csv('titanic_DL_ready.csv', index=False)"
   ]
  },
  {
   "cell_type": "markdown",
   "id": "eff51df2",
   "metadata": {},
   "source": [
    "### <u>2) Setting Features and Labels</u>"
   ]
  },
  {
   "cell_type": "code",
   "execution_count": 27,
   "id": "2eac8211",
   "metadata": {},
   "outputs": [
    {
     "name": "stdout",
     "output_type": "stream",
     "text": [
      "(889, 11) <class 'pandas.core.frame.DataFrame'>\n",
      "(889,) <class 'pandas.core.series.Series'>\n"
     ]
    }
   ],
   "source": [
    "# Set Features and labels:\n",
    "\n",
    "X = df_titanic.drop(columns=['Survived']) # all the columns except the Response variable can be fed in our model.\n",
    "y = df_titanic['Survived']\n",
    "\n",
    "print(X.shape, type(X))\n",
    "print(y.shape, type(y))"
   ]
  },
  {
   "cell_type": "markdown",
   "id": "e73ebfda",
   "metadata": {},
   "source": [
    "'X' is a 2D Tensor which is our Input vector and 'y' is the 1D Tensor as the label that we want to predict ('Survived' or 'did not Survive')."
   ]
  },
  {
   "cell_type": "markdown",
   "id": "562c6ef9",
   "metadata": {},
   "source": [
    "### 3) Split our Features and associated Labels Data into 3 Chunks: Training, Validation and Test"
   ]
  },
  {
   "cell_type": "markdown",
   "id": "7fa42126",
   "metadata": {},
   "source": [
    "An mandatory Preprocessing phase is to split our Data into these 3 blocks:<br>\n",
    "The <b>Training set</b> (Features and Labels) will be used to train the Neural Network and let it find the optimal weights to predict the Labels.<br>\n",
    "The <b>Validation Set</b> is used for unbiased Model evaluation during the training phase.\n",
    "Finally the <b>Test Set</b> is used for evaluating the Model's performance once it has trained.\n",
    "\n",
    "We will set the following proportions for the three different chunks: about 64% for training, 20% for testing and 16% for validating. We will also want to keep the same proportion of the label values across the randomly splitted data, because these are imbalanced (about 60% of People survived against 40% of People who did not) and will therefore need to <i>stratify</i> the data against our Label values, when splitting them."
   ]
  },
  {
   "cell_type": "code",
   "execution_count": 28,
   "id": "80aeac53",
   "metadata": {},
   "outputs": [
    {
     "name": "stdout",
     "output_type": "stream",
     "text": [
      "Shapes:\n",
      "X_train: (568, 11) \n",
      "X_test:  (178, 11) \n",
      "X_valid:  (143, 11)\n",
      "Labels shapes (train, test, validate):  (568,) (178,) (143,)\n"
     ]
    }
   ],
   "source": [
    "# Extract the Training and Test sets with scikit-learn 'train_test_split'\n",
    "X_train, X_test, y_train, y_test = train_test_split(X, y, test_size=0.2, stratify=y)\n",
    "\n",
    "# Extract the Validation set by applying 'train_test_split' again\n",
    "X_train, X_valid, y_train, y_valid = train_test_split(X_train, y_train, test_size=0.2, stratify=y_train)\n",
    "\n",
    "\n",
    "print(\"Shapes:\\nX_train:\", X_train.shape, \"\\nX_test: \", X_test.shape, \"\\nX_valid: \", X_valid.shape)\n",
    "print(\"Labels shapes (train, test, validate): \", y_train.shape, y_test.shape, y_valid.shape)"
   ]
  },
  {
   "cell_type": "code",
   "execution_count": 29,
   "id": "0e5c3c1b",
   "metadata": {},
   "outputs": [
    {
     "name": "stdout",
     "output_type": "stream",
     "text": [
      "0.38204225352112675 0.38202247191011235 0.38461538461538464\n"
     ]
    }
   ],
   "source": [
    "# Verify that we stratified the data:\n",
    "print(y_train.mean(), y_test.mean(), y_valid.mean())"
   ]
  },
  {
   "cell_type": "markdown",
   "id": "af491293",
   "metadata": {},
   "source": [
    "### <u>4) Normalize the Input Data</u>"
   ]
  },
  {
   "cell_type": "markdown",
   "id": "e364af6f",
   "metadata": {},
   "source": [
    "Normalizing the data is an important step as it prevents the network to wrongly interpret stronger relations between neurons where in fact, the magnitude of some input values is just bigger than for others.<br>\n",
    "As an example here, let's look at the values taken by the 'Pclass' and 'Fare' respectively:"
   ]
  },
  {
   "cell_type": "code",
   "execution_count": 30,
   "id": "a6bcc69d",
   "metadata": {},
   "outputs": [
    {
     "data": {
      "text/html": [
       "<div>\n",
       "<style scoped>\n",
       "    .dataframe tbody tr th:only-of-type {\n",
       "        vertical-align: middle;\n",
       "    }\n",
       "\n",
       "    .dataframe tbody tr th {\n",
       "        vertical-align: top;\n",
       "    }\n",
       "\n",
       "    .dataframe thead th {\n",
       "        text-align: right;\n",
       "    }\n",
       "</style>\n",
       "<table border=\"1\" class=\"dataframe\">\n",
       "  <thead>\n",
       "    <tr style=\"text-align: right;\">\n",
       "      <th></th>\n",
       "      <th>Pclass</th>\n",
       "      <th>Fare</th>\n",
       "    </tr>\n",
       "  </thead>\n",
       "  <tbody>\n",
       "    <tr>\n",
       "      <th>mean</th>\n",
       "      <td>2.327465</td>\n",
       "      <td>30.340345</td>\n",
       "    </tr>\n",
       "    <tr>\n",
       "      <th>std</th>\n",
       "      <td>0.824120</td>\n",
       "      <td>46.186794</td>\n",
       "    </tr>\n",
       "    <tr>\n",
       "      <th>min</th>\n",
       "      <td>1.000000</td>\n",
       "      <td>0.000000</td>\n",
       "    </tr>\n",
       "    <tr>\n",
       "      <th>max</th>\n",
       "      <td>3.000000</td>\n",
       "      <td>512.329200</td>\n",
       "    </tr>\n",
       "  </tbody>\n",
       "</table>\n",
       "</div>"
      ],
      "text/plain": [
       "        Pclass        Fare\n",
       "mean  2.327465   30.340345\n",
       "std   0.824120   46.186794\n",
       "min   1.000000    0.000000\n",
       "max   3.000000  512.329200"
      ]
     },
     "execution_count": 30,
     "metadata": {},
     "output_type": "execute_result"
    }
   ],
   "source": [
    "X_train[['Pclass', 'Fare']].describe().loc[['mean', 'std', 'min','max']]"
   ]
  },
  {
   "cell_type": "markdown",
   "id": "1de66eff",
   "metadata": {},
   "source": [
    "If we did not normalize the data, the network would be biased towards the 'Fare' values and interpret a bigger significance of this Feature for predicting a Label. To prevent this, all Feature values are translated and represented as a <i>z-score</i> instead: It represents the distance in standard deviations from the mean in a standard normal distribution (centered on 0 with a standard deviation of 1)."
   ]
  },
  {
   "cell_type": "code",
   "execution_count": 31,
   "id": "a2460f95",
   "metadata": {},
   "outputs": [],
   "source": [
    "# Use the MinMaxScaler Class\n",
    "sc = MinMaxScaler(feature_range=(0.01, 0.99))"
   ]
  },
  {
   "cell_type": "markdown",
   "id": "00f17c4b",
   "metadata": {},
   "source": [
    "<i>Note:</i> To normalize the data we use the 'MinMaxScaler' instead of the 'StandardScaler' from sklearn, translating the values between (0, 1) exclusively.\n",
    "Otherwise, using an activation function of \"ReLu\" (Rectified Linear Unit) in the first hidden layer of our Model, would bypass all negative Input values."
   ]
  },
  {
   "cell_type": "code",
   "execution_count": 32,
   "id": "6a81560a",
   "metadata": {},
   "outputs": [],
   "source": [
    "sc.fit(X_train);"
   ]
  },
  {
   "cell_type": "code",
   "execution_count": 33,
   "id": "3c189f63",
   "metadata": {},
   "outputs": [
    {
     "name": "stdout",
     "output_type": "stream",
     "text": [
      "[[0.5        0.46046997 0.1325     0.01       0.05973365 0.01\n",
      "  0.01       0.99       0.01       0.01       0.99      ]\n",
      " [0.99       0.37056214 0.1325     0.01       0.03964891 0.01\n",
      "  0.01       0.99       0.01       0.99       0.01      ]]\n"
     ]
    }
   ],
   "source": [
    "# Apply the transform scale on all three chunks, training/test/validation\n",
    "X_train_std = sc.transform(X_train)\n",
    "X_test_std  = sc.transform(X_test)\n",
    "X_valid_std = sc.transform(X_valid)\n",
    "\n",
    "print(X_train_std[:2])"
   ]
  },
  {
   "cell_type": "code",
   "execution_count": 34,
   "id": "b43f75e3",
   "metadata": {},
   "outputs": [
    {
     "name": "stdout",
     "output_type": "stream",
     "text": [
      "568 11\n"
     ]
    }
   ],
   "source": [
    "print(len(X_train_std), X_train_std.shape[1])"
   ]
  },
  {
   "cell_type": "markdown",
   "id": "4a8df47f",
   "metadata": {},
   "source": [
    "<i>Note:</i> Now all our Input Chunks are normalized and are numpy arrays (and no pandas Dataframes anymore)"
   ]
  },
  {
   "cell_type": "markdown",
   "id": "38d31fa9",
   "metadata": {},
   "source": [
    "<a id='build'></a>\n",
    "## Building and Training the Model"
   ]
  },
  {
   "cell_type": "markdown",
   "id": "176bf7ec",
   "metadata": {},
   "source": [
    "Now we're finally coming to the Part it is all about: Building our Neural Network! We will first design the model,\n",
    "setting the layers and choose activation functions:"
   ]
  },
  {
   "cell_type": "markdown",
   "id": "6512061b",
   "metadata": {},
   "source": [
    "### Build the Neural Network"
   ]
  },
  {
   "cell_type": "markdown",
   "id": "f8daa391",
   "metadata": {},
   "source": [
    "We have 11 Input units (one for each feature), 2 hidden layers, each with 32 neurons and a 'ReLu' activation function,\n",
    "1 output layer with a single unit, since we predict two levels of a binary class (Survived:1 or zero), and a sigmoid activation function, which outputs a number between 0 and 1."
   ]
  },
  {
   "cell_type": "markdown",
   "id": "caeac8fd",
   "metadata": {},
   "source": [
    "We use the standard 'Sequential' keras Model , which is a simple stack of 'Dense' (hence fully-connected)layers."
   ]
  },
  {
   "cell_type": "code",
   "execution_count": 35,
   "id": "161898c5",
   "metadata": {},
   "outputs": [
    {
     "name": "stderr",
     "output_type": "stream",
     "text": [
      "2022-01-22 00:32:58.373592: I tensorflow/core/platform/cpu_feature_guard.cc:142] This TensorFlow binary is optimized with oneAPI Deep Neural Network Library (oneDNN) to use the following CPU instructions in performance-critical operations:  SSE4.1 SSE4.2\n",
      "To enable them in other operations, rebuild TensorFlow with the appropriate compiler flags.\n"
     ]
    }
   ],
   "source": [
    "classy_model = Sequential([\n",
    "            layers.Dense(units=32, input_dim=len(X_train.columns), activation='relu'),\n",
    "            layers.Dense(units=32, activation='relu'),\n",
    "            layers.Dense(units=1, activation='sigmoid')\n",
    "])\n"
   ]
  },
  {
   "cell_type": "code",
   "execution_count": 36,
   "id": "fb307371",
   "metadata": {},
   "outputs": [
    {
     "name": "stdout",
     "output_type": "stream",
     "text": [
      "Model: \"sequential\"\n",
      "_________________________________________________________________\n",
      "Layer (type)                 Output Shape              Param #   \n",
      "=================================================================\n",
      "dense (Dense)                (None, 32)                384       \n",
      "_________________________________________________________________\n",
      "dense_1 (Dense)              (None, 32)                1056      \n",
      "_________________________________________________________________\n",
      "dense_2 (Dense)              (None, 1)                 33        \n",
      "=================================================================\n",
      "Total params: 1,473\n",
      "Trainable params: 1,473\n",
      "Non-trainable params: 0\n",
      "_________________________________________________________________\n"
     ]
    }
   ],
   "source": [
    "classy_model.summary()"
   ]
  },
  {
   "cell_type": "markdown",
   "id": "e9cdf7c7",
   "metadata": {},
   "source": [
    "<i>Note:</i> The numbers of parameters in each layer is equal to the number of weights connected to it, plus the number of biases (one pro unit):<br><br>\n",
    "<center>$NumberParams_k = NumberUnits_{k-1} * NumberUnits_{k} + NumberUnits_{k}$</center>"
   ]
  },
  {
   "cell_type": "markdown",
   "id": "250fc3eb",
   "metadata": {},
   "source": [
    "### Compile the Model with appropriate parameters"
   ]
  },
  {
   "cell_type": "markdown",
   "id": "e626800e",
   "metadata": {},
   "source": [
    "- We use the 'Binary Cross Entropy' as the Loss function wich our Network aims to minimize. This function measures the difference of the computed predicted Label from the true Label, kept in our Test Chunk.\n",
    "- The 'Adaptive Moment Optimizer' (short 'adam') is the algorithm that minimizes the Loss function, by computing its gradient and updates the weights in all layers, by back propagation, at each update step (here after each batch is processed)\n",
    "- The 'Accuracy' tells us how good the Model performs at minimizing the Loss during the training, by calculating the proportion of correct predicted Labels (on the Train Chunk), while the Validation Accuracy checks this Proportion on the Validation Chuck, that is not used by the Model to correct its weights. It enables the Network to validate if it's learning in a good way and modify it if it's not."
   ]
  },
  {
   "cell_type": "code",
   "execution_count": 37,
   "id": "ecaa680c",
   "metadata": {},
   "outputs": [],
   "source": [
    "classy_model.compile(loss='binary_crossentropy', optimizer='adam', metrics= 'accuracy')\n",
    "#metrics=keras.metrics.BinaryAccuracy())"
   ]
  },
  {
   "cell_type": "markdown",
   "id": "c217debf",
   "metadata": {},
   "source": [
    "### Train the Network"
   ]
  },
  {
   "cell_type": "markdown",
   "id": "937678a0",
   "metadata": {},
   "source": [
    "The \"whole job\" happens in this simple Method call. The Network starts running and learning, fed with the Train Input Chunk, with a set of 'batch_size' samples at each step, repeated 'epochs' number of times. We also pass the Validation Chunk needed while training, as discussed before."
   ]
  },
  {
   "cell_type": "code",
   "execution_count": 38,
   "id": "872294a6",
   "metadata": {},
   "outputs": [
    {
     "name": "stderr",
     "output_type": "stream",
     "text": [
      "2022-01-22 00:33:33.152717: I tensorflow/compiler/mlir/mlir_graph_optimization_pass.cc:185] None of the MLIR Optimization Passes are enabled (registered 2)\n"
     ]
    },
    {
     "name": "stdout",
     "output_type": "stream",
     "text": [
      "Epoch 1/100\n",
      "71/71 [==============================] - 0s 2ms/step - loss: 0.6402 - accuracy: 0.6884 - val_loss: 0.5534 - val_accuracy: 0.8322\n",
      "Epoch 2/100\n",
      "71/71 [==============================] - 0s 707us/step - loss: 0.5328 - accuracy: 0.7870 - val_loss: 0.4755 - val_accuracy: 0.8112\n",
      "Epoch 3/100\n",
      "71/71 [==============================] - 0s 700us/step - loss: 0.4840 - accuracy: 0.7835 - val_loss: 0.4499 - val_accuracy: 0.8182\n",
      "Epoch 4/100\n",
      "71/71 [==============================] - 0s 695us/step - loss: 0.4702 - accuracy: 0.7852 - val_loss: 0.4506 - val_accuracy: 0.8252\n",
      "Epoch 5/100\n",
      "71/71 [==============================] - 0s 710us/step - loss: 0.4597 - accuracy: 0.8011 - val_loss: 0.4545 - val_accuracy: 0.7762\n",
      "Epoch 6/100\n",
      "71/71 [==============================] - 0s 696us/step - loss: 0.4539 - accuracy: 0.7923 - val_loss: 0.4472 - val_accuracy: 0.8252\n",
      "Epoch 7/100\n",
      "71/71 [==============================] - 0s 665us/step - loss: 0.4505 - accuracy: 0.8011 - val_loss: 0.4631 - val_accuracy: 0.8182\n",
      "Epoch 8/100\n",
      "71/71 [==============================] - 0s 689us/step - loss: 0.4476 - accuracy: 0.8063 - val_loss: 0.4507 - val_accuracy: 0.8182\n",
      "Epoch 9/100\n",
      "71/71 [==============================] - 0s 695us/step - loss: 0.4391 - accuracy: 0.8151 - val_loss: 0.4457 - val_accuracy: 0.7902\n",
      "Epoch 10/100\n",
      "71/71 [==============================] - 0s 683us/step - loss: 0.4373 - accuracy: 0.8099 - val_loss: 0.4443 - val_accuracy: 0.8252\n",
      "Epoch 11/100\n",
      "71/71 [==============================] - 0s 683us/step - loss: 0.4385 - accuracy: 0.8099 - val_loss: 0.4465 - val_accuracy: 0.7972\n",
      "Epoch 12/100\n",
      "71/71 [==============================] - 0s 674us/step - loss: 0.4337 - accuracy: 0.8081 - val_loss: 0.4470 - val_accuracy: 0.8112\n",
      "Epoch 13/100\n",
      "71/71 [==============================] - 0s 725us/step - loss: 0.4303 - accuracy: 0.8222 - val_loss: 0.4443 - val_accuracy: 0.7762\n",
      "Epoch 14/100\n",
      "71/71 [==============================] - 0s 690us/step - loss: 0.4311 - accuracy: 0.8134 - val_loss: 0.4475 - val_accuracy: 0.8042\n",
      "Epoch 15/100\n",
      "71/71 [==============================] - 0s 688us/step - loss: 0.4304 - accuracy: 0.8169 - val_loss: 0.4432 - val_accuracy: 0.8252\n",
      "Epoch 16/100\n",
      "71/71 [==============================] - 0s 694us/step - loss: 0.4307 - accuracy: 0.7993 - val_loss: 0.4477 - val_accuracy: 0.8112\n",
      "Epoch 17/100\n",
      "71/71 [==============================] - 0s 696us/step - loss: 0.4243 - accuracy: 0.8222 - val_loss: 0.4376 - val_accuracy: 0.8042\n",
      "Epoch 18/100\n",
      "71/71 [==============================] - 0s 679us/step - loss: 0.4225 - accuracy: 0.8099 - val_loss: 0.4395 - val_accuracy: 0.8112\n",
      "Epoch 19/100\n",
      "71/71 [==============================] - 0s 691us/step - loss: 0.4216 - accuracy: 0.8134 - val_loss: 0.4382 - val_accuracy: 0.8252\n",
      "Epoch 20/100\n",
      "71/71 [==============================] - 0s 697us/step - loss: 0.4192 - accuracy: 0.8134 - val_loss: 0.4370 - val_accuracy: 0.8182\n",
      "Epoch 21/100\n",
      "71/71 [==============================] - 0s 692us/step - loss: 0.4182 - accuracy: 0.8134 - val_loss: 0.4368 - val_accuracy: 0.8252\n",
      "Epoch 22/100\n",
      "71/71 [==============================] - 0s 692us/step - loss: 0.4168 - accuracy: 0.8169 - val_loss: 0.4439 - val_accuracy: 0.8182\n",
      "Epoch 23/100\n",
      "71/71 [==============================] - 0s 691us/step - loss: 0.4165 - accuracy: 0.8257 - val_loss: 0.4402 - val_accuracy: 0.8112\n",
      "Epoch 24/100\n",
      "71/71 [==============================] - 0s 693us/step - loss: 0.4149 - accuracy: 0.8204 - val_loss: 0.4408 - val_accuracy: 0.7902\n",
      "Epoch 25/100\n",
      "71/71 [==============================] - 0s 696us/step - loss: 0.4135 - accuracy: 0.8116 - val_loss: 0.4379 - val_accuracy: 0.8182\n",
      "Epoch 26/100\n",
      "71/71 [==============================] - 0s 682us/step - loss: 0.4120 - accuracy: 0.8187 - val_loss: 0.4328 - val_accuracy: 0.8182\n",
      "Epoch 27/100\n",
      "71/71 [==============================] - 0s 693us/step - loss: 0.4117 - accuracy: 0.8151 - val_loss: 0.4404 - val_accuracy: 0.8112\n",
      "Epoch 28/100\n",
      "71/71 [==============================] - 0s 687us/step - loss: 0.4088 - accuracy: 0.8187 - val_loss: 0.4358 - val_accuracy: 0.8112\n",
      "Epoch 29/100\n",
      "71/71 [==============================] - 0s 682us/step - loss: 0.4065 - accuracy: 0.8204 - val_loss: 0.4306 - val_accuracy: 0.8252\n",
      "Epoch 30/100\n",
      "71/71 [==============================] - 0s 715us/step - loss: 0.4061 - accuracy: 0.8239 - val_loss: 0.4363 - val_accuracy: 0.8112\n",
      "Epoch 31/100\n",
      "71/71 [==============================] - 0s 688us/step - loss: 0.4049 - accuracy: 0.8169 - val_loss: 0.4416 - val_accuracy: 0.8042\n",
      "Epoch 32/100\n",
      "71/71 [==============================] - 0s 695us/step - loss: 0.4053 - accuracy: 0.8099 - val_loss: 0.4468 - val_accuracy: 0.8042\n",
      "Epoch 33/100\n",
      "71/71 [==============================] - 0s 696us/step - loss: 0.4024 - accuracy: 0.8239 - val_loss: 0.4337 - val_accuracy: 0.7972\n",
      "Epoch 34/100\n",
      "71/71 [==============================] - 0s 726us/step - loss: 0.4031 - accuracy: 0.8310 - val_loss: 0.4338 - val_accuracy: 0.8112\n",
      "Epoch 35/100\n",
      "71/71 [==============================] - 0s 744us/step - loss: 0.4043 - accuracy: 0.8204 - val_loss: 0.4313 - val_accuracy: 0.8182\n",
      "Epoch 36/100\n",
      "71/71 [==============================] - 0s 712us/step - loss: 0.4016 - accuracy: 0.8169 - val_loss: 0.4290 - val_accuracy: 0.8252\n",
      "Epoch 37/100\n",
      "71/71 [==============================] - 0s 696us/step - loss: 0.3979 - accuracy: 0.8169 - val_loss: 0.4529 - val_accuracy: 0.8112\n",
      "Epoch 38/100\n",
      "71/71 [==============================] - 0s 695us/step - loss: 0.4005 - accuracy: 0.8169 - val_loss: 0.4385 - val_accuracy: 0.8042\n",
      "Epoch 39/100\n",
      "71/71 [==============================] - 0s 682us/step - loss: 0.3967 - accuracy: 0.8257 - val_loss: 0.4325 - val_accuracy: 0.8112\n",
      "Epoch 40/100\n",
      "71/71 [==============================] - 0s 681us/step - loss: 0.4004 - accuracy: 0.8363 - val_loss: 0.4424 - val_accuracy: 0.8042\n",
      "Epoch 41/100\n",
      "71/71 [==============================] - 0s 686us/step - loss: 0.3955 - accuracy: 0.8151 - val_loss: 0.4361 - val_accuracy: 0.8042\n",
      "Epoch 42/100\n",
      "71/71 [==============================] - 0s 694us/step - loss: 0.3966 - accuracy: 0.8275 - val_loss: 0.4350 - val_accuracy: 0.8042\n",
      "Epoch 43/100\n",
      "71/71 [==============================] - 0s 691us/step - loss: 0.3963 - accuracy: 0.8257 - val_loss: 0.4376 - val_accuracy: 0.7972\n",
      "Epoch 44/100\n",
      "71/71 [==============================] - 0s 674us/step - loss: 0.3935 - accuracy: 0.8257 - val_loss: 0.4348 - val_accuracy: 0.8042\n",
      "Epoch 45/100\n",
      "71/71 [==============================] - 0s 694us/step - loss: 0.3950 - accuracy: 0.8292 - val_loss: 0.4353 - val_accuracy: 0.8042\n",
      "Epoch 46/100\n",
      "71/71 [==============================] - 0s 673us/step - loss: 0.3938 - accuracy: 0.8257 - val_loss: 0.4344 - val_accuracy: 0.7972\n",
      "Epoch 47/100\n",
      "71/71 [==============================] - 0s 691us/step - loss: 0.3921 - accuracy: 0.8187 - val_loss: 0.4398 - val_accuracy: 0.8112\n",
      "Epoch 48/100\n",
      "71/71 [==============================] - 0s 696us/step - loss: 0.3934 - accuracy: 0.8275 - val_loss: 0.4279 - val_accuracy: 0.8182\n",
      "Epoch 49/100\n",
      "71/71 [==============================] - 0s 677us/step - loss: 0.3911 - accuracy: 0.8292 - val_loss: 0.4371 - val_accuracy: 0.8112\n",
      "Epoch 50/100\n",
      "71/71 [==============================] - 0s 704us/step - loss: 0.3893 - accuracy: 0.8292 - val_loss: 0.4295 - val_accuracy: 0.8042\n",
      "Epoch 51/100\n",
      "71/71 [==============================] - 0s 688us/step - loss: 0.3932 - accuracy: 0.8275 - val_loss: 0.4289 - val_accuracy: 0.8182\n",
      "Epoch 52/100\n",
      "71/71 [==============================] - 0s 692us/step - loss: 0.3903 - accuracy: 0.8257 - val_loss: 0.4332 - val_accuracy: 0.7972\n",
      "Epoch 53/100\n",
      "71/71 [==============================] - 0s 697us/step - loss: 0.3921 - accuracy: 0.8169 - val_loss: 0.4299 - val_accuracy: 0.8112\n",
      "Epoch 54/100\n",
      "71/71 [==============================] - 0s 707us/step - loss: 0.3891 - accuracy: 0.8345 - val_loss: 0.4301 - val_accuracy: 0.8112\n",
      "Epoch 55/100\n",
      "71/71 [==============================] - 0s 733us/step - loss: 0.3847 - accuracy: 0.8380 - val_loss: 0.4325 - val_accuracy: 0.8252\n",
      "Epoch 56/100\n",
      "71/71 [==============================] - 0s 724us/step - loss: 0.3905 - accuracy: 0.8187 - val_loss: 0.4360 - val_accuracy: 0.8042\n",
      "Epoch 57/100\n",
      "71/71 [==============================] - 0s 697us/step - loss: 0.3873 - accuracy: 0.8310 - val_loss: 0.4249 - val_accuracy: 0.8182\n"
     ]
    },
    {
     "name": "stdout",
     "output_type": "stream",
     "text": [
      "Epoch 58/100\n",
      "71/71 [==============================] - 0s 685us/step - loss: 0.3870 - accuracy: 0.8292 - val_loss: 0.4348 - val_accuracy: 0.7972\n",
      "Epoch 59/100\n",
      "71/71 [==============================] - 0s 685us/step - loss: 0.3902 - accuracy: 0.8292 - val_loss: 0.4377 - val_accuracy: 0.7972\n",
      "Epoch 60/100\n",
      "71/71 [==============================] - 0s 683us/step - loss: 0.3865 - accuracy: 0.8292 - val_loss: 0.4322 - val_accuracy: 0.8112\n",
      "Epoch 61/100\n",
      "71/71 [==============================] - 0s 670us/step - loss: 0.3865 - accuracy: 0.8239 - val_loss: 0.4410 - val_accuracy: 0.8042\n",
      "Epoch 62/100\n",
      "71/71 [==============================] - 0s 669us/step - loss: 0.3854 - accuracy: 0.8275 - val_loss: 0.4434 - val_accuracy: 0.8042\n",
      "Epoch 63/100\n",
      "71/71 [==============================] - 0s 663us/step - loss: 0.3852 - accuracy: 0.8292 - val_loss: 0.4397 - val_accuracy: 0.8042\n",
      "Epoch 64/100\n",
      "71/71 [==============================] - 0s 677us/step - loss: 0.3827 - accuracy: 0.8204 - val_loss: 0.4292 - val_accuracy: 0.8112\n",
      "Epoch 65/100\n",
      "71/71 [==============================] - 0s 675us/step - loss: 0.3848 - accuracy: 0.8239 - val_loss: 0.4310 - val_accuracy: 0.8042\n",
      "Epoch 66/100\n",
      "71/71 [==============================] - 0s 691us/step - loss: 0.3833 - accuracy: 0.8292 - val_loss: 0.4282 - val_accuracy: 0.8182\n",
      "Epoch 67/100\n",
      "71/71 [==============================] - 0s 704us/step - loss: 0.3822 - accuracy: 0.8327 - val_loss: 0.4354 - val_accuracy: 0.8112\n",
      "Epoch 68/100\n",
      "71/71 [==============================] - 0s 702us/step - loss: 0.3804 - accuracy: 0.8380 - val_loss: 0.4310 - val_accuracy: 0.8042\n",
      "Epoch 69/100\n",
      "71/71 [==============================] - 0s 697us/step - loss: 0.3846 - accuracy: 0.8327 - val_loss: 0.4339 - val_accuracy: 0.8042\n",
      "Epoch 70/100\n",
      "71/71 [==============================] - 0s 682us/step - loss: 0.3820 - accuracy: 0.8222 - val_loss: 0.4340 - val_accuracy: 0.7972\n",
      "Epoch 71/100\n",
      "71/71 [==============================] - 0s 684us/step - loss: 0.3793 - accuracy: 0.8292 - val_loss: 0.4269 - val_accuracy: 0.7972\n",
      "Epoch 72/100\n",
      "71/71 [==============================] - 0s 685us/step - loss: 0.3812 - accuracy: 0.8257 - val_loss: 0.4350 - val_accuracy: 0.8182\n",
      "Epoch 73/100\n",
      "71/71 [==============================] - 0s 683us/step - loss: 0.3780 - accuracy: 0.8345 - val_loss: 0.4385 - val_accuracy: 0.8042\n",
      "Epoch 74/100\n",
      "71/71 [==============================] - 0s 684us/step - loss: 0.3803 - accuracy: 0.8327 - val_loss: 0.4325 - val_accuracy: 0.8042\n",
      "Epoch 75/100\n",
      "71/71 [==============================] - 0s 695us/step - loss: 0.3770 - accuracy: 0.8327 - val_loss: 0.4329 - val_accuracy: 0.7972\n",
      "Epoch 76/100\n",
      "71/71 [==============================] - 0s 683us/step - loss: 0.3767 - accuracy: 0.8415 - val_loss: 0.4321 - val_accuracy: 0.8042\n",
      "Epoch 77/100\n",
      "71/71 [==============================] - 0s 674us/step - loss: 0.3837 - accuracy: 0.8151 - val_loss: 0.4334 - val_accuracy: 0.8042\n",
      "Epoch 78/100\n",
      "71/71 [==============================] - 0s 672us/step - loss: 0.3804 - accuracy: 0.8380 - val_loss: 0.4382 - val_accuracy: 0.8112\n",
      "Epoch 79/100\n",
      "71/71 [==============================] - 0s 686us/step - loss: 0.3768 - accuracy: 0.8222 - val_loss: 0.4333 - val_accuracy: 0.8112\n",
      "Epoch 80/100\n",
      "71/71 [==============================] - 0s 688us/step - loss: 0.3783 - accuracy: 0.8345 - val_loss: 0.4349 - val_accuracy: 0.8042\n",
      "Epoch 81/100\n",
      "71/71 [==============================] - 0s 703us/step - loss: 0.3780 - accuracy: 0.8327 - val_loss: 0.4373 - val_accuracy: 0.8112\n",
      "Epoch 82/100\n",
      "71/71 [==============================] - 0s 696us/step - loss: 0.3771 - accuracy: 0.8327 - val_loss: 0.4291 - val_accuracy: 0.8112\n",
      "Epoch 83/100\n",
      "71/71 [==============================] - 0s 683us/step - loss: 0.3815 - accuracy: 0.8257 - val_loss: 0.4334 - val_accuracy: 0.7972\n",
      "Epoch 84/100\n",
      "71/71 [==============================] - 0s 678us/step - loss: 0.3763 - accuracy: 0.8327 - val_loss: 0.4479 - val_accuracy: 0.8042\n",
      "Epoch 85/100\n",
      "71/71 [==============================] - 0s 694us/step - loss: 0.3757 - accuracy: 0.8257 - val_loss: 0.4308 - val_accuracy: 0.8042\n",
      "Epoch 86/100\n",
      "71/71 [==============================] - 0s 685us/step - loss: 0.3733 - accuracy: 0.8292 - val_loss: 0.4380 - val_accuracy: 0.7972\n",
      "Epoch 87/100\n",
      "71/71 [==============================] - 0s 684us/step - loss: 0.3722 - accuracy: 0.8239 - val_loss: 0.4386 - val_accuracy: 0.7902\n",
      "Epoch 88/100\n",
      "71/71 [==============================] - 0s 680us/step - loss: 0.3738 - accuracy: 0.8380 - val_loss: 0.4329 - val_accuracy: 0.8112\n",
      "Epoch 89/100\n",
      "71/71 [==============================] - 0s 677us/step - loss: 0.3762 - accuracy: 0.8310 - val_loss: 0.4363 - val_accuracy: 0.8112\n",
      "Epoch 90/100\n",
      "71/71 [==============================] - 0s 689us/step - loss: 0.3768 - accuracy: 0.8327 - val_loss: 0.4358 - val_accuracy: 0.8112\n",
      "Epoch 91/100\n",
      "71/71 [==============================] - 0s 676us/step - loss: 0.3713 - accuracy: 0.8275 - val_loss: 0.4407 - val_accuracy: 0.8182\n",
      "Epoch 92/100\n",
      "71/71 [==============================] - 0s 683us/step - loss: 0.3746 - accuracy: 0.8222 - val_loss: 0.4360 - val_accuracy: 0.8042\n",
      "Epoch 93/100\n",
      "71/71 [==============================] - 0s 690us/step - loss: 0.3717 - accuracy: 0.8310 - val_loss: 0.4395 - val_accuracy: 0.8042\n",
      "Epoch 94/100\n",
      "71/71 [==============================] - 0s 701us/step - loss: 0.3753 - accuracy: 0.8310 - val_loss: 0.4369 - val_accuracy: 0.8042\n",
      "Epoch 95/100\n",
      "71/71 [==============================] - 0s 700us/step - loss: 0.3694 - accuracy: 0.8345 - val_loss: 0.4317 - val_accuracy: 0.8042\n",
      "Epoch 96/100\n",
      "71/71 [==============================] - 0s 705us/step - loss: 0.3707 - accuracy: 0.8415 - val_loss: 0.4382 - val_accuracy: 0.8042\n",
      "Epoch 97/100\n",
      "71/71 [==============================] - 0s 693us/step - loss: 0.3725 - accuracy: 0.8327 - val_loss: 0.4288 - val_accuracy: 0.8042\n",
      "Epoch 98/100\n",
      "71/71 [==============================] - 0s 681us/step - loss: 0.3667 - accuracy: 0.8398 - val_loss: 0.4376 - val_accuracy: 0.8042\n",
      "Epoch 99/100\n",
      "71/71 [==============================] - 0s 702us/step - loss: 0.3741 - accuracy: 0.8187 - val_loss: 0.4333 - val_accuracy: 0.8182\n",
      "Epoch 100/100\n",
      "71/71 [==============================] - 0s 687us/step - loss: 0.3699 - accuracy: 0.8398 - val_loss: 0.4465 - val_accuracy: 0.7972\n"
     ]
    }
   ],
   "source": [
    "classy_history = classy_model.fit(X_train_std, y_train, epochs=100, verbose=1, batch_size=8, \n",
    "                                  validation_data=(X_valid_std, y_valid))"
   ]
  },
  {
   "cell_type": "markdown",
   "id": "e2fe9a17",
   "metadata": {},
   "source": [
    "That's it! Our Model learnt on the Train Data, verifying Its improvement on the Validation Data and is now ready to predict Test Data, it has never seen before. We will do this next!"
   ]
  },
  {
   "cell_type": "markdown",
   "id": "0a6e887b",
   "metadata": {},
   "source": [
    "<a id='predict'></a> \n",
    "## Predicting 'brand new' Labels"
   ]
  },
  {
   "cell_type": "markdown",
   "id": "a89d8735",
   "metadata": {},
   "source": [
    "We now use the Test Chunk, that our Network does not know about and compare the Predictions obtained (a float number between 0 and 1) which is the Probability of obtaining a value of 1 for the Label Class, with the true Label.<br>In other words, our Network tells us for each Sample we pass it in X_test, how likely the Passenger of this sample survived!<br>\n",
    "We can then check for each sample of X_test, if our Model was right, by comparing this value to the True Label (from y_test) and finally compute the average \"Correctness\" of the Model, which is given by 'accuracy_score'.\n"
   ]
  },
  {
   "cell_type": "code",
   "execution_count": 57,
   "id": "9156e3c4",
   "metadata": {},
   "outputs": [
    {
     "name": "stdout",
     "output_type": "stream",
     "text": [
      "6/6 [==============================] - 0s 1ms/step\n",
      "10 first predictions as probabilities:  [0.51878554, 0.07634413, 0.104997605, 0.81371593, 0.076942146, 0.17464578, 0.1470829, 0.10009229, 0.9682224, 0.03227383, 0.08218703, 0.063809365, 0.10153338, 0.15252206, 0.17464578, 0.09785521, 0.8558183, 0.10214841, 0.1470829, 0.07222813] \n",
      "\n",
      "10 first Predictions in binary form: [1 0 0 1 0 0 0 0 1 0]\n",
      "10 first True Labels: [1 0 0 0 0 0 1 0 1 0] \n",
      "\n",
      "Accuracy of the predicted labels:  0.8539325842696629\n"
     ]
    }
   ],
   "source": [
    "# predict a Label for each sample in X_test\n",
    "y_hat = classy_model.predict(X_test_std, verbose=1)\n",
    "\n",
    "probas = [val[0] for val in y_hat]\n",
    "print(\"10 first predictions as probabilities: \", probas[:20], \"\\n\")\n",
    "\n",
    "# convert the probability into a discrete value (1 or zero), the standard Threshold is 0.5\n",
    "y_hat = [1 if val >=0.5 else 0 for val in y_hat]\n",
    "\n",
    "print(\"10 first Predictions in binary form:\", np.array(y_hat)[:10])\n",
    "print(\"10 first True Labels:\", np.array(y_test)[:10], \"\\n\")\n",
    "print(\"Accuracy of the predicted labels: \", accuracy_score(y_test, y_hat))"
   ]
  },
  {
   "cell_type": "markdown",
   "id": "1cfdf400",
   "metadata": {},
   "source": [
    "The predict method enables us to \"directly look at the data\" and see the values of the predicted labels and compare them to the true labels ourselves. We can compute the Accuracy Score with 'accuracyscore' from sklearn to get the average goodness of our model.<br>A simmilar method 'evaluate' gives us this Accuracy score directly as well as the loss value :"
   ]
  },
  {
   "cell_type": "code",
   "execution_count": 59,
   "id": "e9f55b2b",
   "metadata": {},
   "outputs": [
    {
     "name": "stdout",
     "output_type": "stream",
     "text": [
      "6/6 [==============================] - 0s 772us/step - loss: 0.3948 - accuracy: 0.8539\n"
     ]
    },
    {
     "data": {
      "text/plain": [
       "[0.39479443430900574, 0.8539325594902039]"
      ]
     },
     "execution_count": 59,
     "metadata": {},
     "output_type": "execute_result"
    }
   ],
   "source": [
    "classy_model.evaluate(X_test_std, y_test)"
   ]
  },
  {
   "cell_type": "markdown",
   "id": "b193740d",
   "metadata": {},
   "source": [
    "These Results are quite satisfying! Let's sum them up in the last Section:"
   ]
  },
  {
   "cell_type": "markdown",
   "id": "44f6357f",
   "metadata": {},
   "source": [
    "<a id='results'></a>\n",
    "## Interpreting the Results"
   ]
  },
  {
   "cell_type": "markdown",
   "id": "5441c4f7",
   "metadata": {},
   "source": [
    "- Testing our trained Model with unseen Data, which we have the true Labels for, shows that we correctly can predict them 85,4% of the time which is a good performance\n",
    "- Looking at the predicted Label values directly, we can see that most predictions are either close to zero or close to 1, which also shows that the Model performs well (If the values were close to the threshold of 0.5, the predictions would not have a strong meaning)."
   ]
  },
  {
   "cell_type": "markdown",
   "id": "eb5cdc82",
   "metadata": {},
   "source": [
    "Let's finish with a Graph that plots the Evolution of the loss values and accuracy scores per epoch:"
   ]
  },
  {
   "cell_type": "code",
   "execution_count": 64,
   "id": "5af72308",
   "metadata": {},
   "outputs": [
    {
     "data": {
      "text/html": [
       "<div>\n",
       "<style scoped>\n",
       "    .dataframe tbody tr th:only-of-type {\n",
       "        vertical-align: middle;\n",
       "    }\n",
       "\n",
       "    .dataframe tbody tr th {\n",
       "        vertical-align: top;\n",
       "    }\n",
       "\n",
       "    .dataframe thead th {\n",
       "        text-align: right;\n",
       "    }\n",
       "</style>\n",
       "<table border=\"1\" class=\"dataframe\">\n",
       "  <thead>\n",
       "    <tr style=\"text-align: right;\">\n",
       "      <th></th>\n",
       "      <th>loss</th>\n",
       "      <th>accuracy</th>\n",
       "      <th>val_loss</th>\n",
       "      <th>val_accuracy</th>\n",
       "      <th>epoch</th>\n",
       "    </tr>\n",
       "  </thead>\n",
       "  <tbody>\n",
       "    <tr>\n",
       "      <th>0</th>\n",
       "      <td>0.604141</td>\n",
       "      <td>0.709507</td>\n",
       "      <td>0.588445</td>\n",
       "      <td>0.678322</td>\n",
       "      <td>0</td>\n",
       "    </tr>\n",
       "    <tr>\n",
       "      <th>1</th>\n",
       "      <td>0.484164</td>\n",
       "      <td>0.797535</td>\n",
       "      <td>0.565662</td>\n",
       "      <td>0.706294</td>\n",
       "      <td>1</td>\n",
       "    </tr>\n",
       "    <tr>\n",
       "      <th>2</th>\n",
       "      <td>0.448563</td>\n",
       "      <td>0.806338</td>\n",
       "      <td>0.562224</td>\n",
       "      <td>0.685315</td>\n",
       "      <td>2</td>\n",
       "    </tr>\n",
       "    <tr>\n",
       "      <th>3</th>\n",
       "      <td>0.439479</td>\n",
       "      <td>0.806338</td>\n",
       "      <td>0.565951</td>\n",
       "      <td>0.671329</td>\n",
       "      <td>3</td>\n",
       "    </tr>\n",
       "    <tr>\n",
       "      <th>4</th>\n",
       "      <td>0.429428</td>\n",
       "      <td>0.816901</td>\n",
       "      <td>0.557914</td>\n",
       "      <td>0.678322</td>\n",
       "      <td>4</td>\n",
       "    </tr>\n",
       "  </tbody>\n",
       "</table>\n",
       "</div>"
      ],
      "text/plain": [
       "       loss  accuracy  val_loss  val_accuracy  epoch\n",
       "0  0.604141  0.709507  0.588445      0.678322      0\n",
       "1  0.484164  0.797535  0.565662      0.706294      1\n",
       "2  0.448563  0.806338  0.562224      0.685315      2\n",
       "3  0.439479  0.806338  0.565951      0.671329      3\n",
       "4  0.429428  0.816901  0.557914      0.678322      4"
      ]
     },
     "execution_count": 64,
     "metadata": {},
     "output_type": "execute_result"
    }
   ],
   "source": [
    "# let's inspect the Model.history\n",
    "hist = pd.DataFrame(classy_history.history)\n",
    "hist['epoch'] = classy_history.epoch\n",
    "hist.head()"
   ]
  },
  {
   "cell_type": "code",
   "execution_count": 71,
   "id": "62c8af0f",
   "metadata": {},
   "outputs": [
    {
     "data": {
      "text/plain": [
       "<matplotlib.legend.Legend at 0x7fed091f2070>"
      ]
     },
     "execution_count": 71,
     "metadata": {},
     "output_type": "execute_result"
    },
    {
     "data": {
      "image/png": "[encoded data removed]",
      "text/plain": [
       "<Figure size 1008x360 with 2 Axes>"
      ]
     },
     "metadata": {
      "needs_background": "light"
     },
     "output_type": "display_data"
    }
   ],
   "source": [
    "# plot the results of the 'fit' method\n",
    "\n",
    "fig = plt.figure(figsize=[14, 5])\n",
    "plt.subplot(1, 2, 1)\n",
    "plt.plot(classy_history.history['loss'], label='loss')\n",
    "plt.plot(classy_history.history['val_loss'], label='val_loss')\n",
    "plt.xlabel('Epoch')\n",
    "plt.ylabel('Binary Cross Entropy')\n",
    "plt.legend(loc='best')\n",
    "plt.subplot(1,2,2)\n",
    "plt.plot(classy_history.history['accuracy'], label='accuracy')\n",
    "plt.plot(classy_history.history['val_accuracy'], label='val_accuracy')\n",
    "plt.xlabel('Epoch')\n",
    "plt.ylabel('Accuracy Score')\n",
    "plt.legend(loc='best')"
   ]
  },
  {
   "cell_type": "markdown",
   "id": "5c687a68",
   "metadata": {},
   "source": [
    "We clearly see how the Loss function decreases during training and the Accuracy gets always better.\n",
    "The fluctuations of the Validation Data does not show improvement of the model in itself, but the Accuracy on Validation data tend to increase over the epochs, which is what we want to see! "
   ]
  },
  {
   "cell_type": "markdown",
   "id": "47337cac",
   "metadata": {},
   "source": [
    "<a id='conclusion'></a>\n",
    "## Conclusion and Limitations"
   ]
  },
  {
   "cell_type": "markdown",
   "id": "d94a62b8",
   "metadata": {},
   "source": [
    "The Deep Learning Approach to gain Insights on the collected Data of the Passengers onboard the 'Titanic Vessel', enables us to build a Model that performs quite good at predicting wether a Passenger did survive the Tragedy or not, based on its Characteristics (Age, Travelling Class, Gender, etc...). In other words this Model could construct a complex function relating the Response Variable to all the Feature variables.\n",
    "Limitation: the performance of our Model depends on the quantity of data samples available. This Dataset contains less than 1000 samples which is not much to work with. The Results are actually quite satisfying, considering this limitation. The reason is, as we could show with an Exploratory Data Analysis, that the Response is strongly correlated with some features in the Dataset ('Gender' and 'Class of Travelling' for example). A Neural Network let this correlation appear!\n"
   ]
  }
 ],
 "metadata": {
  "kernelspec": {
   "display_name": "Python 3 (ipykernel)",
   "language": "python",
   "name": "python3"
  },
  "language_info": {
   "codemirror_mode": {
    "name": "ipython",
    "version": 3
   },
   "file_extension": ".py",
   "mimetype": "text/x-python",
   "name": "python",
   "nbconvert_exporter": "python",
   "pygments_lexer": "ipython3",
   "version": "3.8.12"
  }
 },
 "nbformat": 4,
 "nbformat_minor": 5
}
